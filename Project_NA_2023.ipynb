{
 "cells": [
  {
   "cell_type": "markdown",
   "id": "b2adfc7e",
   "metadata": {},
   "source": [
    "# Προγραμματιστική Εργασία στην Αριθμητική Ανάλυση"
   ]
  },
  {
   "cell_type": "markdown",
   "id": "f93f5aa4",
   "metadata": {},
   "source": [
    "**Αριστοτέλειο Πανεπιστήμιο Θεσσαλονίκης</br>\n",
    "Τμήμα Ηλεκτρολόγων Μηχανικών και Μηχανικών Υπολογιστών</br>\n",
    "Μάθημα: Αριθμητική Ανάλυση**"
   ]
  },
  {
   "cell_type": "markdown",
   "id": "f54f8949",
   "metadata": {},
   "source": [
    "### <u>Παραγοντοποιήσεις LU και QR</u>"
   ]
  },
  {
   "cell_type": "markdown",
   "id": "12e80a1f",
   "metadata": {},
   "source": [
    "Η πρώτη συνάρτηση $LU_{mine}$ που μας δίνεται, δέχεται ως είσοδο τον τετραγωνικό πίνακα Α και μας δίνει ως έξοδο έναν κάτω τριγωνικό πίνακα L και έναν άνω τριγωνικό πίνακα U, έτσι ώστε:\n",
    "$$\n",
    "A=L\\cdot{U}\n",
    "$$\n",
    "Ο κώδικας αυτής της συνάρτησης είναι ο εξής:"
   ]
  },
  {
   "cell_type": "code",
   "execution_count": 1,
   "id": "da98ac02",
   "metadata": {},
   "outputs": [],
   "source": [
    "import numpy as np\n",
    "def LUmine(A):\n",
    "    n = A.shape[0]   #Η διάσταση του πίνακα\n",
    "    L = np.matrix(np.identity(n))  #Δημιουργία μοναδιαίου μέρους του L\n",
    "    U = A\n",
    "    for j in range(0,n-1):\n",
    "        for i in range(j+1,n):\n",
    "            mult = A[i,j] / A[j,j]\n",
    "            A[i, j+1:n] = A[i, j+1:n] - mult * A[j, j+1:n]\n",
    "            U[i, j+1:n] = A[i, j+1:n]\n",
    "            L[i,j] = mult\n",
    "            U[i,j] = 0         \n",
    "    return L, U"
   ]
  },
  {
   "cell_type": "markdown",
   "id": "41613229",
   "metadata": {},
   "source": [
    "Η δεύτερη συνάρτηση $QR_{mine}$ που μας δίνεται, δέχεται ως είσοδο τον **τετραγωνικό** πίνακα Α και μας δίνει στην έξοδο του τον πίνακα Q, ο οποίος είναι ορθογώνιος και τον πίνακα R, ο οποίος είναι άνω τριγωνικός. Σε αυτήν την περίπτωση πάλι ισχύει ότι:\n",
    "$$ A=Q\\cdot{R}$$\n",
    "\n",
    "Θα δοκιμάσω στον παραπάνω κώδικα να βρώ τους πίνακες Q και R του παραδείγματος 8.3 του βιβλίου, όπου μου δίνεται ο τετραγωνικός πίνακας Α, τον οποίο ορίζω. Φυσικά, καλώ την συνάρτηση $QR_{mine}$ και εμφανίζω τους πίνακες Q και R. Επιπλέον, για ένα δεύτερο παράδειγμα βάζω έναν πίνακα που βρήκα στο <a href=\"https://www.math.ucla.edu/~yanovsky/Teaching/Math151B/handouts/GramSchmidt.pdf\">διαδίκτυο</a>, για το οποίο γνωρίζω τους πίνακες Q και R, τους οποίους περιμένω ότι θα μου δώσει το πρόγραμμα.\n",
    "\n",
    "Η διαφορά μεταξύ του πίνακα Α και του γινομένου πινάκων QR, θα την ονομάσω *σφάλμα (error)*. Θέλω το σφάλμα ιδανικά να είναι αρκετά μικρό, μικρότερο από μονάδα. Το σφάλμα μπορεί να διαφέρει κάθε φορά, σε εμένα το σφάλμα ήταν $9.057\\cdot10^{-15}$. Το σφάλμα το υπολογίζω με χρήση της συνάρτησης: ```np.linalg.norm(A-Q*R)```."
   ]
  },
  {
   "cell_type": "code",
   "execution_count": 2,
   "id": "b0eb58ce",
   "metadata": {
    "scrolled": true
   },
   "outputs": [
    {
     "name": "stdout",
     "output_type": "stream",
     "text": [
      "Q: [[ 0.33333333  0.93333333 -0.13333333]\n",
      " [ 0.66666667 -0.33333333 -0.66666667]\n",
      " [ 0.66666667 -0.13333333  0.73333333]]\n",
      "R: [[ 3.00000000e+01 -1.50000000e+01  3.00000000e+01]\n",
      " [ 1.22124533e-15  1.50000000e+01  1.50000000e+01]\n",
      " [-4.44089210e-16  1.33226763e-15  4.50000000e+01]]\n",
      "The error is: 9.057678187205881e-15\n",
      "\n",
      "\n",
      "Q: [[ 0.70710678  0.40824829 -0.57735027]\n",
      " [ 0.70710678 -0.40824829  0.57735027]\n",
      " [ 0.          0.81649658  0.57735027]]\n",
      "R: [[ 1.41421356e+00  7.07106781e-01  7.07106781e-01]\n",
      " [ 1.66533454e-16  1.22474487e+00  4.08248290e-01]\n",
      " [ 2.22044605e-16 -1.11022302e-16  1.15470054e+00]]\n",
      "The error is: 9.057678187205881e-15\n"
     ]
    }
   ],
   "source": [
    "import numpy as np\n",
    "def QRmine(A):\n",
    "    n = A.shape[0]\n",
    "    Q = np.matrix(np.zeros( (n,n) ))\n",
    "    \n",
    "    for j in range(0, n):\n",
    "        q = A[:,j]\n",
    "        for i in range(0, n):\n",
    "            length_of_leg = np.sum(A[:,j].T * Q[:,i])\n",
    "            q = q - length_of_leg * Q[:,i]\n",
    "        Q[:,j] = q/np.linalg.norm(q)\n",
    "    R = np.matrix(Q[:,:].T * A[:,:], dtype=float)\n",
    "    return Q, R\n",
    "#Ex. 1 -- Παράδειγμα 8.3 - βιβλίο\n",
    "A = np.matrix([[10, 9, 18], [20, -15, -15], [20, -12, 51]]) \n",
    "Q, R = QRmine(A)\n",
    "print(\"Q:\", Q)\n",
    "print(\"R:\", R)\n",
    "\n",
    "#Βρίσκω και το σφάλμα στο παραπάνω παράδειγμα ως εξής:\n",
    "error = np.linalg.norm(A - Q*R)\n",
    "print(\"The error is:\", error)\n",
    "\n",
    "#Ex.2 -- Παράδειγμα από διαδίκτυο\n",
    "B = np.matrix([[1, 1, 0], [1, 0, 1], [0, 1, 1]]) \n",
    "Q, R = QRmine(B)\n",
    "print(\"\\n\\nQ:\", Q)\n",
    "print(\"R:\", R)\n",
    "#Το σφάλμα θα είναι:\n",
    "print(\"The error is:\", error)"
   ]
  },
  {
   "cell_type": "markdown",
   "id": "aeab4841",
   "metadata": {},
   "source": [
    "Παρατηρώ ότι ο πίνακας R δεν μοιάζει να είναι άνω τριγωνικός εκ πρώτης όψεως. Ωστόσο, αν κοιτάξω καλύτερα παρατηρώ ότι τα στοιχεία κάτω από την κύρια διαγώνιο είναι της τάξης των $10^{-16}$ δηλαδή σχεδόν μηδέν. Θεωρώ λοιπόν ότι είναι σφάλματα απειροελάχιστα σφάλματα λόγω των υπολογισμών, και μπορώ να τα θεωρήσω ίσα με μηδέν. Έτσι, προκύπτει ο σωστός πίνακας R, τον οποίο θα έβρισκα και υπολογιστικά στο χαρτί."
   ]
  },
  {
   "cell_type": "markdown",
   "id": "ee2e3fa5",
   "metadata": {},
   "source": [
    "---"
   ]
  },
  {
   "cell_type": "markdown",
   "id": "c4498cb7",
   "metadata": {},
   "source": [
    "### <u>Πίνακες Hilbert</u>"
   ]
  },
  {
   "cell_type": "markdown",
   "id": "17c6a9fc",
   "metadata": {},
   "source": [
    "Ο πίνακας Hilbert, όπως είδαμε στην εκφώνηση είναι της μορφής:\n",
    "$$\n",
    "H_{ij}=1/(i+j+1)\n",
    "$$\n",
    "\n",
    "**α.** Δημιουργώ έναν πίνακα Hilbert διαστάσεων $n\\times{n}$ και θα δοκιμάσουμε να εκτυπώσουμε τα αποτελέσματα για $n=4$ και $n=5$ για να δούμε αν λειτουργεί σωστά. Παρατηρούμε ότι λειτουργεί ορθά ο κώδικάς μου."
   ]
  },
  {
   "cell_type": "code",
   "execution_count": 3,
   "id": "a4515650",
   "metadata": {},
   "outputs": [
    {
     "name": "stdout",
     "output_type": "stream",
     "text": [
      "Hilbert matrix for n=4:\n",
      "[[1.         0.5        0.33333333 0.25      ]\n",
      " [0.5        0.33333333 0.25       0.2       ]\n",
      " [0.33333333 0.25       0.2        0.16666667]\n",
      " [0.25       0.2        0.16666667 0.14285714]]\n",
      "\n",
      "\n",
      "Hilbert matrix for n=5:\n",
      "[[1.         0.5        0.33333333 0.25       0.2       ]\n",
      " [0.5        0.33333333 0.25       0.2        0.16666667]\n",
      " [0.33333333 0.25       0.2        0.16666667 0.14285714]\n",
      " [0.25       0.2        0.16666667 0.14285714 0.125     ]\n",
      " [0.2        0.16666667 0.14285714 0.125      0.11111111]]\n"
     ]
    }
   ],
   "source": [
    "def makeHillbert(n):\n",
    "    H = np.matrix(np.zeros((n,n)))\n",
    "    for i in range(0, n):\n",
    "        for j in range(0, n):\n",
    "            H[i,j] = 1/(i+j+1)  \n",
    "    return H\n",
    "\n",
    "print(\"Hilbert matrix for n=4:\")\n",
    "print(makeHillbert(4))\n",
    "print(\"\\n\\nHilbert matrix for n=5:\")\n",
    "print(makeHillbert(5))"
   ]
  },
  {
   "cell_type": "markdown",
   "id": "09c431d2",
   "metadata": {},
   "source": [
    "**β.** Χρησιμοποιώ τις συναρτήσεις ```LUmine()``` που μου δόθηκε στην εκφώνηση και την συνάρτηση ```makeHillbert()``` που δημιούργησα στο προηγούμενο ερώτημα. Ο πίνακας **Α** παραγοντοποιείται ως εξής:\n",
    "$$A=L\\cdot{U}$$\n",
    "\n",
    "Γνωρίζω ότι:\n",
    "$$Ax=b$$\n",
    "\n",
    "Θα λύσω τα γραμμικά συστήματα:\n",
    "$$L\\vec{y}=b$$\n",
    "και\n",
    "$$U\\vec{x}=\\vec{y}$$\n",
    "Με αυτόν τον τρόπο, θα βρω τον μονοδιάστατο διάνυσμα $\\vec{x}$ ο οποίος είναι η λύση του συστήματος.\n",
    "Υλοποιώ λοιπόν την συνάρτηση ```Solveforb()``` στην οποία δίνω ως είσοδο απλά την διάσταση $n$ του πίνακα Hillbert $n\\times{n}$ και παίρνω ως έξοδο το διάνυσμα $\\vec{x}$."
   ]
  },
  {
   "cell_type": "code",
   "execution_count": 4,
   "id": "9b3c008b",
   "metadata": {},
   "outputs": [
    {
     "name": "stdout",
     "output_type": "stream",
     "text": [
      "Example for n=4:\n",
      " x: [[ 6.16666667e-01  3.50000000e+00 -1.79500000e+02  5.82166667e+03]]\n"
     ]
    }
   ],
   "source": [
    "import numpy as np\n",
    "def LUmine(A):\n",
    "    n = A.shape[0]   #Η διάσταση του πίνακα\n",
    "    L = np.matrix(np.identity(n))  #Δημιουργία μοναδιαίου μέρους του L\n",
    "    U = A\n",
    "    for j in range(0,n-1):\n",
    "        for i in range(j+1,n):\n",
    "            mult = A[i,j] / A[j,j]\n",
    "            A[i, j+1:n] = A[i, j+1:n] - mult * A[j, j+1:n]\n",
    "            U[i, j+1:n] = A[i, j+1:n]\n",
    "            L[i,j] = mult\n",
    "            U[i,j] = 0         \n",
    "    return L, U\n",
    "\n",
    "def makeHillbert(n):\n",
    "    H = np.matrix(np.zeros((n,n)))\n",
    "    for i in range(0, n):\n",
    "        for j in range(0, n):\n",
    "            H[i,j] = 1/(i+j+1)  \n",
    "    return H\n",
    "\n",
    "def Solveforb(n):\n",
    "    b = np.ones((n,1))\n",
    "    y = np.matrix(n)\n",
    "    x = np.matrix(n)\n",
    "    H = makeHillbert(n)\n",
    "    L, U = LUmine(H)\n",
    "    y= b.T*L.I;\n",
    "    x= y*U.I;\n",
    "    return x\n",
    "\n",
    "#Example for n=4\n",
    "n=4\n",
    "print(\"Example for n=4:\\n x:\", Solveforb(n))"
   ]
  },
  {
   "cell_type": "markdown",
   "id": "f51bae31",
   "metadata": {},
   "source": [
    "**γ.** Μεταβάλλουμε την τιμή του πρώτου στοιχείου του διανύσματος $\\vec{b}$ κατά μια απειροελάχιστη τιμή, γνωστή ως ε. \n",
    "\n",
    "<u>Η συνάρτηση Absdiff()</u></br>\n",
    "Δημιουργώ μια νέα συνάρτηση την `Absdiff()` (από το Absolute Difference), η οποία καλεί τις συναρτήσεις `makeHilbert` και `LUmine()`, που χρησιμοποιήσαμε στα προηγούμενα ερωτήματα. Ως ορίσματα αυτή η συνάρτηση δέχεται την μια διάσταση του πίνακα Hillbert (n) και την απειροελάχιστη τιμή ε. Υπολογίζει μέσα της το διάνυσμα $\\vec{x}$ και το διάνυσμα $\\vec{x_{new}}$ και βρίσκει την διαφορά τους (diff) σύμφωνα με την γραμμή κώδικα της εκφώνησης.</br></br>\n",
    "Στο πρόγραμμα, καλούμε την συνάρτηση αυτή για n=4 (4x4 διαστάσεων πίνακα Hillbert) και ε=$10^{-15}$. Το αποτέλεσμα που θα μας επιστρέψει η συνάρτηση, μας δίνει τη Μέγιστη Απόλυτη Διαφορά (Maximum Absolute Difference) των δύο λύσεων. Παρατηρούμε ότι η τιμή αυτή θα είναι αρκετά μικρή, της τάξης των $10^{-12}$, το οποίο σημαίνει ότι οι δύο λύσεις διαφέρουν κατά πάρα πολύ λίγο. Το αποτέλεσμα αυτό το αναμέναμε, μιας και η μέθοδος παραγοντοποίησης LU (ως επαναληπτική μέθοδος) συγκλίνει γρήγορα στην πραγματική λύση του συστήματος των γραμμικών εξισώσεων. Γενικά, γνωρίζουμε ότι η ακολουθία $\\{{x^{k}}\\}$ συγκλίνει στην πραγματική λύση του συστήματος.\n",
    "\n",
    "**δ.** </br>\n",
    "<u>Η συνάρτηση plot()</u></br>\n",
    "Δημιουργώ την συνάρτηση `plot()`, η οποία κατασκευάζει το διάγραμμα της συνάρτησης των τιμών διάφορων διαστάσεων ($n\\geq1$) του πίνακα Hillbert με την Μέγιστη Απόλυτη Διαφορά για σταθερό ε. Η συνάρτηση αυτή καλεί μέσα της 6 φορές την συνάρτηση `Absdiff(n,e)`, αποθηκεύει τις τιμές των n και της διαφοράς (diff) σε δύο διανύσματα έξι θέσεων και τα σχεδιάζει, σε διακριτές τιμές, στο Διάγραμμα Απόλυτης Διαφοράς - Διάστασης πίνακα (n).</br></br>\n",
    "Από το διάγραμμα παρατηρούμε ότι για $n=1$ εώς $n=4$ η απόλυτη διαφορά αυξάνεται αρκετά. Ωστόσο, από την διάσταση του πίνακα $n=4$ και μετά, η απόλυτη διαφορά σταθεροποιείται σε μια καθορισμένη τιμή. Αυτό συμβαίνει, καθώς αυξάνοντας τις τιμές των διαστάσεων, αυξάνονται η τιμές του διανύσματος x. Με αποτέλεσμα η μικρή διαφορά ε, να πάψει να επηρεάζει σημαντικά την διαφορά των δύο διανυσμάτων μετά από τις 4 συνιστώσες. Έτσι, η τιμή της απόλυτης διαφοράς σχεδόν σταθεροποιείται.</br></br>\n",
    "Παρακάτω βλέπουμε τον κώδικα των συναρτήσεων των ερωτημάτων (γ) και (δ):"
   ]
  },
  {
   "cell_type": "code",
   "execution_count": 5,
   "id": "0ea91e19",
   "metadata": {},
   "outputs": [
    {
     "name": "stdout",
     "output_type": "stream",
     "text": [
      "Example for n=4 and e=10e-15:\n",
      "\n",
      "Maximum Absolute Difference: 1.8189894035458565e-12\n",
      "\n",
      "Διάγραμμα Απόλυτης Διαφοράς (diff) - Διάσταση πίνακα Hillbert (n):\n"
     ]
    },
    {
     "data": {
      "image/png": "[encoded data removed]",
      "text/plain": [
       "<Figure size 432x288 with 1 Axes>"
      ]
     },
     "metadata": {
      "needs_background": "light"
     },
     "output_type": "display_data"
    }
   ],
   "source": [
    "import matplotlib.pyplot as plt\n",
    "import numpy as np\n",
    "\n",
    "def Absdiff(n,e):\n",
    "    H = makeHillbert(n)\n",
    "    L, U = LUmine(H)\n",
    "    \n",
    "    #Solve for b\n",
    "    b = np.ones((n,1))\n",
    "    y = np.matrix(n)\n",
    "    x = np.matrix(n)\n",
    "    y= b.T*L.I;\n",
    "    x= y*U.I;\n",
    "    \n",
    "    #Solve for bnew\n",
    "    b[0,0]=1+e\n",
    "    bnew = b\n",
    "    xnew = np.matrix(n)\n",
    "    y= bnew.T*L.I;\n",
    "    xnew= y*U.I;\n",
    "    \n",
    "    diff = np.max(np.abs(x-xnew))\n",
    "    return diff\n",
    "\n",
    "def plot(e):\n",
    "    n=np.array([1,2,3,4,5,6])\n",
    "    diff=np.empty(6)\n",
    "    for i in range(1,7,1):\n",
    "        diff[(i-1)]= Absdiff(i,e)\n",
    "    plt.plot(n,diff, 'o')\n",
    "    print(\"\\nΔιάγραμμα Απόλυτης Διαφοράς (diff) - Διάσταση πίνακα Hillbert (n):\")\n",
    "    plt.xlabel(\"Διάσταση πίνακα Hillbert (n)\")\n",
    "    plt.ylabel(\"Απόλυτη Διαφορά (absolute difference)\")\n",
    "    plt.show()\n",
    "    return\n",
    "\n",
    "#Example for n=4 and difference e=10e-15\n",
    "n=4\n",
    "e=10e-15\n",
    "\n",
    "print(\"Example for n=4 and e=10e-15:\\n\\nMaximum Absolute Difference:\", Absdiff(n,e))\n",
    "#Plotting the Diagram\n",
    "plot(e)"
   ]
  },
  {
   "cell_type": "markdown",
   "id": "462e5d08",
   "metadata": {},
   "source": [
    "**ε.** Χρησιμοποιώ και πάλι την συνάρτηση `makeHillbert(n)` για να φτιάξω τους πίνακες Hillbert που χρειάζομαι. Ωστόσο, ορίζω άλλες δύο συναρτήσεις, τις `SecNorm(n)` και `plotnorm()`.</br></br>\n",
    "<u>Η συνάρτηση SecNorm(n)</u></br>\n",
    "Η συνάρτηση αυτή δέχεται ως όρισμα μόνο το αριθμό των διαστάσεων n του πίνακα Hillbert. Καλεί συνολικά 4 συναρτήσεις, την ``makeHillbert(n)``, την `np.linalg.inv()`, την `np.linalg.norm` και την `np.identity()`. Έχουμε την δημιουργία του πίνακα Hillbert, τον υπολογισμό του αντιστρόφου του, τον υπολογισμό του γινομένου αυτών των δύο πινάκων, την δημιουργία ενός μοναδιαίου πίνακα $n\\times{n}$ διαστάσεων και τέλος τον υπολογισμό της δεύτερης νόρμας (2-νόρμα) της διαφοράς του μοναδιαίου πίνακα και του γινομένου των πινάκων Hillbert. Η συνάρτηση επιστρέφει την τιμή της νόρμας.</br></br>\n",
    "<u>Η συνάρτηση plotnorm()</u></br>\n",
    "Η συνάρτηση αυτή κατασκευάζει το διάγραμμα της συνάρτησης των τιμών διάφορων διαστάσεων (n) του πίνακα Hillbert με την τιμή της 2-νόρμας. Η συνάρτηση αυτή καλεί μέσα της 8 φορές την συνάρτηση SecNorm(n), αποθηκεύει τις τιμές των n και της 2ης-νόρμας (2-norm) σε δύο διανύσματα οκτώ θέσεων και τα σχεδιάζει, σε διακριτές τιμές, στο Διάγραμμα 2-νόρμας της Διαφοράς - Διάσταση πίνακα Hillbert(n).\n",
    "\n",
    "Από το διάγραμμα παρατηρούμε ότι με την αύξηση των διαστάσεων του πίνακα Hillbert (n) η 2η νόρμα της διαφοράς του μοναδιαίου πίνακα και του πίνακα $Η\\cdot{H^{-1}}$ αυξάνεται κατά 10 περίπου μονάδες. Αυτό σημαίνει ότι με την αύξηση των διαστάσεων του πίνακα Hillbert, η διαδικασία αντιστροφής των πινάκων αυτών, αποκλίνει όλο και περισσότερο από την ταύτιση με τον μοναδιαίο πίνακα. Έτσι, κάποια στιγμή ένας μεγάλος πίνακας Hillbert υποθέτω ότι με την διαδικασία της αναστροφής, δεν θα μοιάζει καθόλου με τον μοναδιαίο πίνακα."
   ]
  },
  {
   "cell_type": "code",
   "execution_count": 6,
   "id": "6ca55251",
   "metadata": {},
   "outputs": [
    {
     "name": "stdout",
     "output_type": "stream",
     "text": [
      "Second Norm for n=6:  2.9344687436075244e-10\n",
      "\n",
      "Διάγραμμα 2-νόρμας της Διαφοράς - Διάσταση πίνακα Hillbert (n):\n"
     ]
    },
    {
     "data": {
      "image/png": "[encoded data removed]",
      "text/plain": [
       "<Figure size 432x288 with 1 Axes>"
      ]
     },
     "metadata": {
      "needs_background": "light"
     },
     "output_type": "display_data"
    }
   ],
   "source": [
    "import matplotlib.pyplot as plt\n",
    "import numpy as np\n",
    "\n",
    "def makeHillbert(n):\n",
    "    H = np.matrix(np.zeros((n,n)))\n",
    "    for i in range(0, n):\n",
    "        for j in range(0, n):\n",
    "            H[i,j] = 1/(i+j+1)  \n",
    "    return H\n",
    "\n",
    "def SecNorm(n):\n",
    "    H = makeHillbert(n)\n",
    "    HI = np.linalg.inv(H)\n",
    "    I = np.identity(n)\n",
    "    HHI = H*HI\n",
    "    norm = np.linalg.norm((I-HHI), 2)\n",
    "    return norm\n",
    "\n",
    "def plotnorm():\n",
    "    n=np.array([1,2,3,4,5, 6, 7, 8])\n",
    "    norm=np.empty(8)\n",
    "    for i in range(1,9,1):\n",
    "        norm[(i-1)]= SecNorm(i)\n",
    "    plt.plot(n,norm, 'o')\n",
    "    print(\"\\nΔιάγραμμα 2-νόρμας της Διαφοράς - Διάσταση πίνακα Hillbert (n):\")\n",
    "    plt.xlabel(\"Διάσταση πίνακα Hillbert (n)\")\n",
    "    plt.ylabel(\"Δεύτερη νόρμα\")\n",
    "    plt.show()\n",
    "    return\n",
    "\n",
    "#Example for n=6\n",
    "print(\"Second Norm for n=6: \", SecNorm(6))\n",
    "\n",
    "#Plotting the Diagram\n",
    "plotnorm()"
   ]
  },
  {
   "cell_type": "markdown",
   "id": "29cf52f3",
   "metadata": {},
   "source": [
    "---"
   ]
  },
  {
   "cell_type": "markdown",
   "id": "e072b523",
   "metadata": {},
   "source": [
    "### <u>Πρόβλημα προσέγγισης</u>"
   ]
  },
  {
   "cell_type": "markdown",
   "id": "db8d4865",
   "metadata": {},
   "source": [
    "Στο τελευταίο μέρος της εργασίας, μας δίνεται η συνάρτηση:\n",
    "$$ y = cos(4t)+ 0,1ε(t) $$\n",
    "και μας ζητείται να κατασκευαστεί ένα πολυώνυμο 4ου βαθμού που θα προσεγγίζει βέλτιστα αυτή την συνάρτηση. </br>\n",
    "Αρχικά, κατασκευάζω τα διανύσματα $t$ και $y$, τα οποία περιέχουν 50 τιμές. Το διάνυσμα $y$ εξαρτάται φυσικά, από το διάνυσμα $t$ και από τις τιμές του κανονικά κατανεμημένου λευκού θορύβου, οι οποίες παράγονται από την συνάρτηση `np.random.randn()`.\n",
    "Εκτυπώνω τα διανύσματα $t$ και $y$ που δημιούργησα. Στο επόμενο βήμα φτιάχνω το πολυώνυμο που προσεγγίζει βέλτιστα την συνάρτηση $y(t)$, αυτό γίνεται με την βοήθεια της συνάρτησης του πακέτου scipy, `optimize.curve_fit()`. Με αυτόν τον τρόπο βρίσκω, σύμφωνα με την μέθοδο των ελάχιστων τετραγώνων τις βέλτιστες τιμές των σταθερών όρων a, b, c, d και e του πολυωνύμου. Χρησιμοποιώ και την συνάρτηση `poly(t,a,b,c,d,e)` την οποία έφτιαξα για να την καλέσω μέσα στην συνάρτηση της scipy.</br>\n",
    "Επιπλέον, βρίσκω το άθροισμα των τετραγωνικών σφαλμάτων μεταξύ των τιμών του πολυωνύμου προσέγγισης και της συνάρτησης που μου δόθηκε. Χρησιμοποιώ τον τύπο:</br>\n",
    "$$ error_{i} = (y_{i}-f(x_{i}))^2 $$\n",
    "και για το άθροισμα των τετραγωνικών σφαλμάτων, τον τύπο:\n",
    "$$\\sum_{i=1}^{n} (y_{i}-f(x_{i}))^2 $$\n",
    "Έτσι, δημιούργησα την συνάρτηση `sumoferror(fx,y)` την οποία χρησιμοποίησα για να υπολογίσω το άθροισμα των τετραγωνικών σφαλμάτων και να το εκτυπώσω στην οθόνη.</br>\n",
    "Ύστερα, απεικόνισα σε ένα διάγραμμα τις τιμές της συνάρτησης $y(t)$ που θα πάρω κάθε χρονική στιγμή $t$ από τα 0 εώς το 1 και την καμπύλη βέλτιστης προσέγγισης, δηλαδή την συνάρτηση του πολυωνύμου. Παρατηρώ ότι η καμπύλη βέλτιστης προσέγγισης προσεγγίζει αρκετά καλά τις τιμές που παίρνει η συνάρτηση $y(t)$ που μας δόθηκε.</br></br>\n",
    "\n",
    "Τέλος, μου μένει η παραγοντοποίηση των συστημάτων με την μέθοδο παραγοντοποίησης LU και QR. Αρχικά, δημιουργώ τον πίνακα Α τον οποίο μαζί με το διάνυσμα $y$ θα λύσω την εξίσωση:\n",
    "$$ A\\cdot{x} = b $$\n",
    "Ο πίνακας $Α$ αποτελείται από τα τις σταθερές του χρόνου $t$ μπροστά από τους αγνώστους $a, b, c, d, e$ και είναι $50\\times{5}$. Ο πίνακας $x$ αποτελείται από τους 5 αγνώστους $a,b,c,d,e$ και έχει διαστάσεις $5\\times{1}$ και ο πίνακας $b$ αποτελείται από το διάνυσμα $y$ το οποίο δημιουργήθηκε πριν.</br> Έχουμε λοιπόν:</br>\n",
    "$$(\\Sigma):\n",
    "\\begin{cases} a\\cdot{{t_1}^4} + b\\cdot{{t_1}^3} + c\\cdot{{t_1}^2} + d\\cdot{t_1} + e = y_1\\\\ a\\cdot{{t_2}^4} + b\\cdot{{t_2}^3} + c\\cdot{{t_2}^2} + d\\cdot{t_2} + e = y_2 \\\\ \\vdots \\\\ a\\cdot{{t_{50}}^4} + b\\cdot{{t_{50}}^3} + c\\cdot{{t_{50}}^2} + d\\cdot{t_{50}} + e = y_{50} \\end{cases}\n",
    "$$</br>\n",
    "Το σύστημα αυτό σε μορφή πινάκων θα γίνει:\n",
    "$$ A\\cdot{x} = b $$\n",
    "</br>\n",
    "$$\\Rightarrow \\begin{bmatrix}\n",
    "{t_1}^4 & {t_1}^3 & {t_1}^2 & {t_1} & 1 \\\\\n",
    "{t_2}^4 & {t_2}^3 & {t_2}^2 & {t_2} & 1 \\\\\n",
    "\\dots  & \\dots  & \\dots  & \\dots & \\dots  \\\\\n",
    "{t_{50}}^4 & {t_{50}}^3 & {t_{50}}^2 & {t_{50}} & 1 \n",
    "\\end{bmatrix}\n",
    "\\cdot\n",
    "\\begin{bmatrix}\n",
    "a \\\\ b \\\\ c \\\\ d \\\\ e \n",
    "\\end{bmatrix}\n",
    "=\n",
    "\\begin{bmatrix}\n",
    "y_{1} \\\\ y_{2} \\\\ \\dots \\\\ y_{50}\n",
    "\\end{bmatrix}\n",
    "$$\n",
    "Η λύση του συστήματος είναι ουσιαστικά ο πίνακας στήλη $x$, ο οποίος θα είναι:\n",
    "$$\n",
    "x = \\begin{bmatrix}\n",
    "a \\\\ b \\\\ c \\\\ d \\\\ e \n",
    "\\end{bmatrix}\n",
    "$$\n",
    "Καθώς ο πίνακας $Α$ είναι διαστάσεων $50\\times{5}$ θα τον κανονικοποίησω και θα τον κάνω τετραγωνικό κάνοντας την παρακάτω σειρά πράξεων:\n",
    "$$\n",
    "Α\\cdot{A^T}\\cdot{x} = A^T\\cdot{b}\n",
    "\\\\\\Rightarrow B\\cdot{x} = h\n",
    "$$\n",
    "Δημιουργώ, λοιπόν την συνάρτηση `Solve(Β,h)` στην οποία περνάω τους κανονικοποιημένους πίνακες Β και h. Με την βοήθεια των συναρτήσεων `QRmine(Α)` και `LUmine(Α)` βρίσκω το διάνυσμα $x_{LU}$, μέσω της παραγοντοποίησης LU και το διάνυσμα $x_{QR}$ μέσω της παραντοποίησης QR. Τα διανύσματα θα είναι ουσιαστικά δύο πίνακες στήλες $5\\times{1}$, τα εκτυπώνω. Παρατηρώ ότι τα διανύσματα αυτά προσεγγίζουν τις μεταβλητές a,b,c,d,e που βρήκα μέσω της μεθόδου των ελάχιστων τετραγώνων."
   ]
  },
  {
   "cell_type": "code",
   "execution_count": 7,
   "id": "f7e0f0d6",
   "metadata": {},
   "outputs": [
    {
     "name": "stdout",
     "output_type": "stream",
     "text": [
      "Το διάνυσμα t θα είναι:\n",
      " [0.         0.02040816 0.04081633 0.06122449 0.08163265 0.10204082\n",
      " 0.12244898 0.14285714 0.16326531 0.18367347 0.20408163 0.2244898\n",
      " 0.24489796 0.26530612 0.28571429 0.30612245 0.32653061 0.34693878\n",
      " 0.36734694 0.3877551  0.40816327 0.42857143 0.44897959 0.46938776\n",
      " 0.48979592 0.51020408 0.53061224 0.55102041 0.57142857 0.59183673\n",
      " 0.6122449  0.63265306 0.65306122 0.67346939 0.69387755 0.71428571\n",
      " 0.73469388 0.75510204 0.7755102  0.79591837 0.81632653 0.83673469\n",
      " 0.85714286 0.87755102 0.89795918 0.91836735 0.93877551 0.95918367\n",
      " 0.97959184 1.        ]\n",
      "\n",
      "Το διάνυσμα y θα είναι:\n",
      " [ 1.08436255  0.992371    0.83877301  0.84832793  1.0010825   0.98361976\n",
      "  0.85091696  0.71349693  0.85632224  0.7543546   0.57135712  0.46975442\n",
      "  0.54020092  0.61866003  0.4073024   0.22071145  0.39412758  0.18507491\n",
      "  0.18687058 -0.06172181  0.06105672 -0.21821042 -0.33030468 -0.27697013\n",
      " -0.36880933 -0.49288244 -0.68696579 -0.47108227 -0.77867607 -0.64013517\n",
      " -0.8295003  -0.83009879 -0.79809291 -0.90690858 -0.87306902 -0.88167619\n",
      " -0.86312402 -0.98309172 -0.94500396 -0.99096105 -0.91615327 -1.03698925\n",
      " -1.0288017  -0.71479015 -1.03616153 -0.82154864 -0.88871873 -0.61885034\n",
      " -0.7220657  -0.54544436]\n",
      "\n",
      "Το πολυώνυμο θα είναι:\n",
      "y=  -2.8756996209761962 x^4 + 13.300667474357327 x^3 + -12.491494529208346 x^2 + 0.5129358100427154 x + 0.9700483274450196\n",
      "\n",
      "\n",
      "Το άθροισμα των τετραγωνικών σφαλμάτων είναι:  0.003912585929114777\n",
      "\n",
      "Το διάγραμμα y-x θα είναι:\n",
      "\n"
     ]
    },
    {
     "data": {
      "image/png": "[encoded data removed]",
      "text/plain": [
       "<Figure size 432x288 with 1 Axes>"
      ]
     },
     "metadata": {
      "needs_background": "light"
     },
     "output_type": "display_data"
    },
    {
     "name": "stdout",
     "output_type": "stream",
     "text": [
      "\n",
      "Η λύση xLU είναι:\n",
      " [[ -3.77330535]\n",
      " [ 15.25930729]\n",
      " [-13.61518623]\n",
      " [  0.63232028]\n",
      " [  0.96616073]]\n",
      "\n",
      "Η λύση xQR είναι:\n",
      " [[ -3.77359323]\n",
      " [ 15.25987152]\n",
      " [-13.61554193]\n",
      " [  0.63239745]\n",
      " [  0.96615713]]\n"
     ]
    }
   ],
   "source": [
    "import numpy as np\n",
    "import matplotlib.pyplot as plt\n",
    "from scipy import optimize\n",
    "\n",
    "def poly(t, a, b, c, d, e):\n",
    "    y = a*t**4+b*t**3+c*t**2+d*t+e\n",
    "    return y\n",
    "\n",
    "def sumoferror(fx, y):\n",
    "    error = np.matrix(50)\n",
    "    error = (y - fx)**2\n",
    "    for i in range(0,49):\n",
    "        sumoferror =+ error[i]\n",
    "    return sumoferror;\n",
    "\n",
    "# 1. Δημιουργία t και y\n",
    "t = np.linspace(0, 1, 50)\n",
    "y = np.cos(4*t)+0.1*np.random.randn(t.shape[0])\n",
    "\n",
    "print(\"Το διάνυσμα t θα είναι:\\n\", t)\n",
    "print(\"\\nΤο διάνυσμα y θα είναι:\\n\", y)\n",
    "\n",
    "# 2. Φτι΄άχνω το πολυώνυμο\n",
    "a, b, c, d, e = optimize.curve_fit(poly, xdata = t, ydata = y)[0]\n",
    "print(\"\\nΤο πολυώνυμο θα είναι:\\ny= \", a, \"x^4 +\", b, \"x^3 +\", c, \"x^2 +\", d, \"x +\", e)\n",
    "\n",
    "# 3. Άθροισμα τετραγωνικών σφαλμάτων\n",
    "fx = poly(t, a, b, c, d, e)\n",
    "print(\"\\n\\nΤο άθροισμα των τετραγωνικών σφαλμάτων είναι: \", sumoferror(fx,y));\n",
    "\n",
    "# 4. Διάγραμματα\n",
    "print(\"\\nΤο διάγραμμα y-x θα είναι:\\n\")\n",
    "plt.plot(t, y, 'b.')\n",
    "plt.plot(t, a*t**4+b*t**3+c*t**2+d*t+e, 'r')\n",
    "plt.xlabel('x')\n",
    "plt.ylabel('y')\n",
    "plt.show()\n",
    "\n",
    "# 5. Παραγοντοποίηση με χρήση των μεθόδων LU και QR\n",
    "\n",
    "def LUmine(A):\n",
    "    n = A.shape[0]   #Η διάσταση του πίνακα\n",
    "    L = np.identity(n)  #Δημιουργία μοναδιαίου μέρους του L\n",
    "    U = A\n",
    "    for j in range(0,n-1):\n",
    "        for i in range(j+1,n):\n",
    "            mult = A[i,j] / A[j,j]\n",
    "            A[i, j+1:n] = A[i, j+1:n] - mult * A[j, j+1:n]\n",
    "            U[i, j+1:n] = A[i, j+1:n]\n",
    "            L[i,j] = mult\n",
    "            U[i,j] = 0         \n",
    "    return L, U\n",
    "\n",
    "def QRmine(A):\n",
    "    n = A.shape[0]\n",
    "    Q = np.zeros( (n,n) )\n",
    "    Q = np.asmatrix(Q)\n",
    "    \n",
    "    for j in range(0, n):\n",
    "        q = A[:,j]\n",
    "        for i in range(0, n):\n",
    "            length_of_leg = np.sum(A[:,j].T * Q[:,i])\n",
    "            q = q - length_of_leg * Q[:,i]\n",
    "        Q[:,j] = q/np.linalg.norm(q)\n",
    "    R = Q[:,:].T * A[:,:]\n",
    "    R = np.asmatrix(R)\n",
    "    return Q, R\n",
    "\n",
    "def Solve(B,h):\n",
    "    \n",
    "    # QR decomposition\n",
    "    Q, R = QRmine(B) \n",
    "    yQR = Q.I*h\n",
    "    xQR = R.I*yQR\n",
    "    \n",
    "    # LU decomposition\n",
    "    L, U = LUmine(B)\n",
    "    L = np.asmatrix(L)\n",
    "    U = np.asmatrix(U)\n",
    "    yLU = L.I*h\n",
    "    xLU = U.I*yLU\n",
    "\n",
    "    return xLU, xQR\n",
    "\n",
    "# Δημιουργία πίνακα Α\n",
    "A = np.array(np.zeros((50,5)))\n",
    "for i in range(0,49):\n",
    "    for t in range(0,49):\n",
    "        t1 = t/50\n",
    "        A[t][:] = [t1**4, t1**3, t1**2, t1, 1]\n",
    "A = np.asmatrix(A)\n",
    "\n",
    "# Κανονικοποίηση πίνακα\n",
    "B = A.T*A\n",
    "y = y.reshape(50,1)\n",
    "h = A.T * y\n",
    "\n",
    "xLU, xQR = Solve(B, h)\n",
    "\n",
    "print(\"\\nΗ λύση xLU είναι:\\n\", xLU)\n",
    "print(\"\\nΗ λύση xQR είναι:\\n\", xQR)"
   ]
  },
  {
   "cell_type": "markdown",
   "id": "891ba9fc",
   "metadata": {},
   "source": [
    "----"
   ]
  },
  {
   "cell_type": "markdown",
   "id": "efc9170d",
   "metadata": {},
   "source": [
    "### <u>Πηγές - Βιβλιογραφία</u>"
   ]
  },
  {
   "cell_type": "markdown",
   "id": "ea32cd22",
   "metadata": {},
   "source": [
    "Χρησιμοποίηθηκαν οι εξής πηγές για να εμπνευστώ και να συνθέσω τον παραπάνω κώδικα:"
   ]
  },
  {
   "cell_type": "markdown",
   "id": "346ced9a",
   "metadata": {},
   "source": [
    "<li><a>https://pythonnumericalmethods.berkeley.edu/notebooks/Index.html</a> - Κυρίως Chapter 16</li>\n",
    "<li><a>https://numpy.org/doc/stable/reference/generated/numpy.matrix.html</a></li>\n",
    "<li><a>https://numpy.org/doc/stable/user/basics.creation.html</a></li>\n",
    "<li><a>https://docs.scipy.org/doc/scipy/reference/optimize.html#module-scipy.optimize</a></li>\n",
    "<li><a>https://www.math.ucla.edu/~yanovsky/Teaching/Math151B/handouts/GramSchmidt.pdf</a></li>\n",
    "<li><a>https://tex.stackexchange.com/questions/393979/matrices-representation-of-linear-equation-ax-b</a></li>\n",
    "<li>Εισαγωγή στην Αριθμητική Ανάλυση - 2η έκδοση- Πιτσούλης Λ. - Εκδόσεις Τζιόλα</li>\n"
   ]
  }
 ],
 "metadata": {
  "kernelspec": {
   "display_name": "Python 3 (ipykernel)",
   "language": "python",
   "name": "python3"
  },
  "language_info": {
   "codemirror_mode": {
    "name": "ipython",
    "version": 3
   },
   "file_extension": ".py",
   "mimetype": "text/x-python",
   "name": "python",
   "nbconvert_exporter": "python",
   "pygments_lexer": "ipython3",
   "version": "3.9.7"
  }
 },
 "nbformat": 4,
 "nbformat_minor": 5
}
